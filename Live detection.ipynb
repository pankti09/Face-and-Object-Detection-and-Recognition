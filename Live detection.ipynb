{
 "cells": [
  {
   "cell_type": "code",
   "execution_count": 1,
   "metadata": {},
   "outputs": [],
   "source": [
    "import cv2\n",
    " \n",
    "def draw_boundary(img,classifier,scaleFactor,minNeighbors,color,text):\n",
    "    gray_img=cv2.cvtColor(img,cv2.COLOR_BGR2GRAY)\n",
    "    features=classifier.detectMultiScale(gray_img,scaleFactor,minNeighbors)\n",
    "    coords=[]\n",
    "    \n",
    "    for (x,y,w,h) in features:\n",
    "        cv2.rectangle(img,(x,y),(x+w,y+h),color,6)\n",
    "        cv2.putText(img,text,(x+8,y-17),cv2.FONT_HERSHEY_SIMPLEX,1,color,2,cv2.LINE_AA)\n",
    "        coords=[x,y,w,h]\n",
    "        \n",
    "    return coords \n",
    "\n",
    "def detect(img,faceCascade,eyeCascade,noseCascade,mouthCascade):\n",
    "    color={\"Blue\":(255,0,0),\"Red\":(0,0,255),\"Green\":(0,255,0),\"White\":(255,255,255)}\n",
    "    coords=draw_boundary(img,faceCascade,1.1,14,color['Blue'],\"Face\")\n",
    "    \n",
    "    if len(coords)==4:\n",
    "        roi_img=img[coords[1]:coords[1]+coords[3],coords[0]:coords[0]+coords[2]]\n",
    "        coords=draw_boundary(roi_img,eyeCascade,1.1,14,color['Red'],\"Eye\")\n",
    "        coords=draw_boundary(roi_img,noseCascade,1.1,14,color['Green'],\"Nose\")      \n",
    "        coords=draw_boundary(roi_img,mouthCascade,1.1,20,color['White'],\"Mouth\")      \n",
    "    return img\n",
    "\n",
    "faceCascade=cv2.CascadeClassifier(\"haarcascade_frontalface_default.xml\")\n",
    "eyeCascade=cv2.CascadeClassifier(\"haarcascade_eye.xml\")\n",
    "\n",
    "noseCascade=cv2.CascadeClassifier(\"Nariz.xml\")\n",
    "mouthCascade=cv2.CascadeClassifier(\"Mouth.xml\")\n",
    "\n",
    "cap=cv2.VideoCapture(0)\n",
    "while True:\n",
    "    \n",
    "    ret,img=cap.read()\n",
    "    img=detect(img,faceCascade,eyeCascade,noseCascade,mouthCascade)\n",
    "    cv2.imshow(\"Face Detection\",img)\n",
    "    \n",
    "    if cv2.waitKey(1) & 0xFF == ord('q'):\n",
    "        break\n",
    "\n",
    "cap.release()  \n",
    "cv2.destroyAllWindows()"
   ]
  },
  {
   "cell_type": "code",
   "execution_count": null,
   "metadata": {},
   "outputs": [],
   "source": []
  },
  {
   "cell_type": "code",
   "execution_count": null,
   "metadata": {},
   "outputs": [],
   "source": []
  }
 ],
 "metadata": {
  "kernelspec": {
   "display_name": "Python 3",
   "language": "python",
   "name": "python3"
  },
  "language_info": {
   "codemirror_mode": {
    "name": "ipython",
    "version": 3
   },
   "file_extension": ".py",
   "mimetype": "text/x-python",
   "name": "python",
   "nbconvert_exporter": "python",
   "pygments_lexer": "ipython3",
   "version": "3.6.4"
  }
 },
 "nbformat": 4,
 "nbformat_minor": 2
}
